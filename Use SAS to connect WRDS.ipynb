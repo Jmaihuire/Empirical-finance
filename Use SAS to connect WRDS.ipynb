{
 "cells": [
  {
   "cell_type": "markdown",
   "metadata": {},
   "source": [
    "## Use SAS to connect WRDS\n",
    "In addition to web query from WRDS website, you can use SAS to connect WRDS cloud to retrieve data.<br>\n",
    "There are two main advantages:\n",
    "1. Flexible: you can use SAS language or SQL to do more complex sample selection.\n",
    "2. Reuseable: you can make adjustments of SAS script and re-run it to update your sample at anytime. \n",
    "\n",
    "<div alert class=\"alert alert-success\"> \n",
    "For SAS users, this is even efficient for your workflow, because you can do your analysis immediately after you extract data from WRDS.\n",
    "</div>\n",
    "<div alter class='alert alert-success'>\n",
    "For Stata users, you have to transpose SAS data to Stata data.\n",
    "</div>"
   ]
  },
  {
   "cell_type": "markdown",
   "metadata": {},
   "source": [
    "### SAS code example\n",
    "In the example below, you can download monthly return and volume from 01/01/2015 to 31/12/2016 for all US stocks."
   ]
  },
  {
   "cell_type": "markdown",
   "metadata": {},
   "source": [
    "```sas\n",
    "/*Remote connect to WRDS server*/\n",
    "%let wrds = wrds-cloud.wharton.upenn.edu 4016;\n",
    "options comamid=TCP remote=WRDS;\n",
    "signon username=_prompt_;\n",
    "\n",
    "libname crsp remote '/wrds/crsp/sasdata/a_stock' server=wrds; *this is remote library;\n",
    "libname yourlib 'your_path'; *this is your local library, e.g. d:\\data;\n",
    "\n",
    "/*Method 1: use SAS data step*/\n",
    "data yourlib.msf_sample;\n",
    "    set crsp.msf;\n",
    "    where '1Jan2015'd<=date<='31Dec2016'd;\n",
    "    keep cusip date ret vol;\n",
    "run;\n",
    "\n",
    "/*Method 2: use SQL*/\n",
    "proc sql;\n",
    "    create table yourlib.msf_sample_1 as\n",
    "    select cusip, date, ret, vol\n",
    "    from crsp.msf\n",
    "    where '1Jan2015'd<=date<='31Dec2016'd;\n",
    "quit;\n",
    "\n",
    "signoff; *disconnect to WRDS server;\n",
    "\n",
    "\n",
    "/*--------------------------------------------------------------------------------------------------------------\n",
    "  For Stata users, the code below can transfer SAS data to Stata data Please change the path where you want to \n",
    "  save your data\n",
    "--------------------------------------------------------------------------------------------------------------*/\n",
    "\n",
    "proc export data=yourlib.msf_sample outfile='d:\\msf_sample.dta' dbms=dta replace;\n",
    "run;\n",
    "```"
   ]
  },
  {
   "cell_type": "markdown",
   "metadata": {},
   "source": [
    "You will see a pop-up window after you execute the code\n",
    "<img src='wrdsuser.png'>\n",
    "Type your WRDS username and password and then you can be authorized."
   ]
  }
 ],
 "metadata": {
  "kernelspec": {
   "display_name": "Python 3",
   "language": "python",
   "name": "python3"
  },
  "language_info": {
   "codemirror_mode": {
    "name": "ipython",
    "version": 3
   },
   "file_extension": ".py",
   "mimetype": "text/x-python",
   "name": "python",
   "nbconvert_exporter": "python",
   "pygments_lexer": "ipython3",
   "version": "3.6.2"
  }
 },
 "nbformat": 4,
 "nbformat_minor": 2
}
