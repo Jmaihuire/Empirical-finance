{
 "cells": [
  {
   "cell_type": "markdown",
   "metadata": {},
   "source": [
    "## Institutional ownership\n",
    "This tutorial is to demonstrate how to calculate institutional ownership using Thomson Reuters 13F database.\n",
    "\n",
    "Institutional ownership is an important variable in many finance fields. For example, it is a proxy of limits-to-arbitage, i.e. higher institutional ownership suggests low limits-to-arbitage; high institutional ownership indicates higher level of market efficiency because institutional investors are much more rational than individual investors; company disclosure is positively correlated with institutional ownership; the increase of institutional ownership can reduce information asymmetry between managers and outside investors or agency problem. \n",
    "\n",
    "$$\\text{Institutional ownership} = \\frac{\\text{shares held by institutions}}{\\text{total shares outstanding}}$$\n",
    "<p><font color='red'>Easy formula but not straightforward data manipulation.</font></p>"
   ]
  },
  {
   "cell_type": "code",
   "execution_count": 1,
   "metadata": {
    "collapsed": true
   },
   "outputs": [],
   "source": [
    "import pandas as pd"
   ]
  },
  {
   "cell_type": "code",
   "execution_count": 2,
   "metadata": {
    "collapsed": true
   },
   "outputs": [],
   "source": [
    "pd.set_option('display.width', 180)\n",
    "\n",
    "tr13f_path = '/users/ml/data/wrds/raw/' # change to your folder\n",
    "crsp_path = '/users/ml/data/clean/' # change to your folder"
   ]
  },
  {
   "cell_type": "markdown",
   "metadata": {},
   "source": [
    "### Read institutional ownership data\n",
    "Chunk by chunk can boost the speed of reading large dataset"
   ]
  },
  {
   "cell_type": "code",
   "execution_count": 3,
   "metadata": {
    "collapsed": true
   },
   "outputs": [],
   "source": [
    "def chunk_read(filename):\n",
    "    chunk_data = pd.read_csv(tr13f_path+filename+'.txt',sep='\\t',iterator=True,chunksize=10**5,low_memory=False,dtype={'cusip': str})\n",
    "    return pd.concat(chunk_data, ignore_index=True)\n",
    "\n",
    "chunk_1 = chunk_read('inst13f_1980_1989')\n",
    "chunk_2 = chunk_read('inst13f_1990_1999')\n",
    "chunk_3 = chunk_read('inst13f_2000_2008')\n",
    "chunk_4 = chunk_read('inst13f_2009_2015')"
   ]
  },
  {
   "cell_type": "code",
   "execution_count": 4,
   "metadata": {},
   "outputs": [
    {
     "name": "stdout",
     "output_type": "stream",
     "text": [
      "total observations: 64227427\n"
     ]
    }
   ],
   "source": [
    "tr13f = pd.concat([chunk_1,chunk_2,chunk_3,chunk_4], ignore_index=True)\n",
    "print 'total observations: %s' %len(tr13f)"
   ]
  },
  {
   "cell_type": "markdown",
   "metadata": {},
   "source": [
    "### Keep shares greater than 0 and delete missing CUSIP"
   ]
  },
  {
   "cell_type": "code",
   "execution_count": 5,
   "metadata": {
    "collapsed": true
   },
   "outputs": [],
   "source": [
    "tr13f_1 = tr13f[['cusip','rdate','mgrno','fdate','shares']].copy()\n",
    "tr13f_1 = tr13f_1[(tr13f_1['cusip'].notnull())&(tr13f_1['shares']>0)].reset_index(drop=True)"
   ]
  },
  {
   "cell_type": "markdown",
   "metadata": {},
   "source": [
    "### Remove duplicates\n",
    "TR-13F has multiple FDATEs for a given CUSIP-RDATE-MGRNO and we only keep the first observation in such case."
   ]
  },
  {
   "cell_type": "code",
   "execution_count": 6,
   "metadata": {},
   "outputs": [
    {
     "name": "stdout",
     "output_type": "stream",
     "text": [
      "observations after removing duplicates 60834922\n"
     ]
    }
   ],
   "source": [
    "tr13f_2 = tr13f_1.sort_values(['cusip','rdate','mgrno','fdate'])\n",
    "tr13f_2 = tr13f_2.drop_duplicates(subset=['cusip','rdate','mgrno'], keep='first').reset_index(drop=True)\n",
    "print 'observations after removing duplicates %s' %len(tr13f_2)"
   ]
  },
  {
   "cell_type": "markdown",
   "metadata": {},
   "source": [
    "### Aggregate shares held by institutional managers per CUSIP-RDATE"
   ]
  },
  {
   "cell_type": "code",
   "execution_count": 7,
   "metadata": {},
   "outputs": [
    {
     "name": "stdout",
     "output_type": "stream",
     "text": [
      "observations after aggreation: 1240876\n"
     ]
    }
   ],
   "source": [
    "inst = pd.DataFrame({'shares': tr13f_2.groupby(['cusip','rdate'])['shares'].sum()})\n",
    "inst['cusip'] = inst.index.get_level_values(0)\n",
    "inst['rdate'] = inst.index.get_level_values(1)\n",
    "inst = inst[['cusip','rdate','shares']].reset_index(drop=True)\n",
    "print 'observations after aggreation: %s' %len(inst)"
   ]
  },
  {
   "cell_type": "markdown",
   "metadata": {},
   "source": [
    "### Calculate another useful variable -- number of institutional investors\n",
    "We do not need total shares from CRSP for this variable"
   ]
  },
  {
   "cell_type": "code",
   "execution_count": 8,
   "metadata": {
    "collapsed": true
   },
   "outputs": [],
   "source": [
    "inst_num = pd.DataFrame({'inst_num': tr13f_2.groupby(['cusip','rdate'])['cusip'].count()})\n",
    "inst_num['cusip'] = inst_num.index.get_level_values(0)\n",
    "inst_num['rdate'] = inst_num.index.get_level_values(1)\n",
    "inst_num = inst_num[['cusip','rdate','inst_num']].reset_index(drop=True)"
   ]
  },
  {
   "cell_type": "markdown",
   "metadata": {},
   "source": [
    "### Merge with FDATE\n",
    "We need FDATE to merge with CRSP to extract the adjusted factor for shares."
   ]
  },
  {
   "cell_type": "code",
   "execution_count": 9,
   "metadata": {
    "collapsed": true
   },
   "outputs": [],
   "source": [
    "fdate = tr13f_2.drop_duplicates(subset=['cusip','rdate'], keep='first').reset_index(drop=True)\n",
    "inst_1 = inst.merge(fdate[['cusip','rdate','fdate']], how='left', on=['cusip','rdate'])\n",
    "inst_1 = inst_1.sort_values(['cusip','rdate']).reset_index(drop=True)"
   ]
  },
  {
   "cell_type": "markdown",
   "metadata": {},
   "source": [
    "### Merge with CRSP and compute institutional ownership\n",
    "We need to merge with CRSP by mapping CUSIP-FDATE in TR-13F with NCUSIP-DATE in CRSP because CUSIP in TR-13F is historical CUSIP.\n",
    "<p>Here, I import the clean CRSP data. Please see 00_Read_data to gain the knowledge how to prepare clean CRSP data.</p>"
   ]
  },
  {
   "cell_type": "code",
   "execution_count": 10,
   "metadata": {
    "collapsed": true
   },
   "outputs": [],
   "source": [
    "crsp = pd.read_hdf(crsp_path+'wrds.h5', 'crspm')\n",
    "crsp_share = crsp[['ncusip','yr_mo','shrout','cfacshr']].copy()\n",
    "crsp_share = crsp_share[crsp_share['shrout']>0].reset_index(drop=True)\n",
    "crsp_share = crsp_share.rename(columns={'ncusip': 'cusip'}) # remember we need NCUSIP from CRSP\n",
    "crsp_share['total_shares_adj'] = crsp_share['shrout'] * crsp_share['cfacshr'] * 1000 # total shares in CRSP is in 1000\n",
    "inst_1['yr_mo'] = (inst_1['fdate']/10000).astype('int')*100 + ((inst_1['fdate']/100).astype('int'))%100 # remember we need FDATE from TR-13F\n",
    "inst_2 = inst_1.merge(crsp_share, how='inner', on=['cusip','yr_mo'])\n",
    "inst_2['shares_adj'] = inst_2['shares'] * inst_2['cfacshr']\n",
    "inst_own = inst_2[['cusip','rdate','shares_adj','total_shares_adj']].copy()\n",
    "inst_own['inst_own'] = inst_own['shares_adj'] / inst_own['total_shares_adj']"
   ]
  },
  {
   "cell_type": "markdown",
   "metadata": {},
   "source": [
    "### Add number of institutional investors in one table"
   ]
  },
  {
   "cell_type": "code",
   "execution_count": 11,
   "metadata": {},
   "outputs": [
    {
     "data": {
      "text/html": [
       "<div>\n",
       "<style>\n",
       "    .dataframe thead tr:only-child th {\n",
       "        text-align: right;\n",
       "    }\n",
       "\n",
       "    .dataframe thead th {\n",
       "        text-align: left;\n",
       "    }\n",
       "\n",
       "    .dataframe tbody tr th {\n",
       "        vertical-align: top;\n",
       "    }\n",
       "</style>\n",
       "<table border=\"1\" class=\"dataframe\">\n",
       "  <thead>\n",
       "    <tr style=\"text-align: right;\">\n",
       "      <th></th>\n",
       "      <th>cusip</th>\n",
       "      <th>rdate</th>\n",
       "      <th>shares_adj</th>\n",
       "      <th>total_shares_adj</th>\n",
       "      <th>inst_own</th>\n",
       "      <th>inst_num</th>\n",
       "    </tr>\n",
       "  </thead>\n",
       "  <tbody>\n",
       "    <tr>\n",
       "      <th>0</th>\n",
       "      <td>00016510</td>\n",
       "      <td>19830930</td>\n",
       "      <td>204700.0</td>\n",
       "      <td>3568000.0</td>\n",
       "      <td>0.057371</td>\n",
       "      <td>6</td>\n",
       "    </tr>\n",
       "    <tr>\n",
       "      <th>1</th>\n",
       "      <td>00016510</td>\n",
       "      <td>19831231</td>\n",
       "      <td>385200.0</td>\n",
       "      <td>3570000.0</td>\n",
       "      <td>0.107899</td>\n",
       "      <td>6</td>\n",
       "    </tr>\n",
       "    <tr>\n",
       "      <th>2</th>\n",
       "      <td>00016510</td>\n",
       "      <td>19840331</td>\n",
       "      <td>380600.0</td>\n",
       "      <td>3568000.0</td>\n",
       "      <td>0.106670</td>\n",
       "      <td>5</td>\n",
       "    </tr>\n",
       "    <tr>\n",
       "      <th>3</th>\n",
       "      <td>00016510</td>\n",
       "      <td>19840630</td>\n",
       "      <td>341800.0</td>\n",
       "      <td>3568000.0</td>\n",
       "      <td>0.095796</td>\n",
       "      <td>4</td>\n",
       "    </tr>\n",
       "    <tr>\n",
       "      <th>4</th>\n",
       "      <td>00016510</td>\n",
       "      <td>19840930</td>\n",
       "      <td>225700.0</td>\n",
       "      <td>3568000.0</td>\n",
       "      <td>0.063257</td>\n",
       "      <td>3</td>\n",
       "    </tr>\n",
       "  </tbody>\n",
       "</table>\n",
       "</div>"
      ],
      "text/plain": [
       "      cusip     rdate  shares_adj  total_shares_adj  inst_own  inst_num\n",
       "0  00016510  19830930    204700.0         3568000.0  0.057371         6\n",
       "1  00016510  19831231    385200.0         3570000.0  0.107899         6\n",
       "2  00016510  19840331    380600.0         3568000.0  0.106670         5\n",
       "3  00016510  19840630    341800.0         3568000.0  0.095796         4\n",
       "4  00016510  19840930    225700.0         3568000.0  0.063257         3"
      ]
     },
     "execution_count": 11,
     "metadata": {},
     "output_type": "execute_result"
    }
   ],
   "source": [
    "inst_own = inst_own.merge(inst_num, how='left', on=['cusip','rdate'])\n",
    "inst_own = inst_own.drop_duplicates(subset=['cusip','rdate'])\n",
    "inst_own = inst_own.sort_values(['cusip','rdate']).reset_index(drop=True)\n",
    "inst_own.head()"
   ]
  },
  {
   "cell_type": "markdown",
   "metadata": {},
   "source": [
    "### Trimming data\n",
    "Delete observations with institutional ownership greater than 100%."
   ]
  },
  {
   "cell_type": "code",
   "execution_count": 12,
   "metadata": {
    "collapsed": true
   },
   "outputs": [],
   "source": [
    "inst_own_1 = inst_own[inst_own['inst_own']<=1].copy()\n",
    "inst_own_1 = inst_own_1.sort_values(['cusip','rdate']).reset_index(drop=True)"
   ]
  }
 ],
 "metadata": {
  "kernelspec": {
   "display_name": "Python 2",
   "language": "python",
   "name": "python2"
  },
  "language_info": {
   "codemirror_mode": {
    "name": "ipython",
    "version": 2
   },
   "file_extension": ".py",
   "mimetype": "text/x-python",
   "name": "python",
   "nbconvert_exporter": "python",
   "pygments_lexer": "ipython2",
   "version": "2.7.13"
  }
 },
 "nbformat": 4,
 "nbformat_minor": 2
}
