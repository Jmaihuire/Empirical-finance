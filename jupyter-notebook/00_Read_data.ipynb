{
 "cells": [
  {
   "cell_type": "markdown",
   "metadata": {},
   "source": [
    "## Read data\n",
    "The data used in this tutorial is from CRSP via WRDS. The sample period is between 1980 to 2016. The data file is named 'crsp_monthly.txt'.\n",
    "I choose the text format to store the data because:\n",
    "- CUSIP in other formats (eg. excel or csv) will miss leading zeros\n",
    "- The size of text file is smaller than other formats"
   ]
  },
  {
   "cell_type": "markdown",
   "metadata": {},
   "source": [
    "### Import required libraries"
   ]
  },
  {
   "cell_type": "code",
   "execution_count": 1,
   "metadata": {
    "collapsed": true
   },
   "outputs": [],
   "source": [
    "import pandas as pd"
   ]
  },
  {
   "cell_type": "markdown",
   "metadata": {},
   "source": [
    "### Read CRSP monthly data"
   ]
  },
  {
   "cell_type": "code",
   "execution_count": 2,
   "metadata": {},
   "outputs": [
    {
     "name": "stdout",
     "output_type": "stream",
     "text": [
      "number of observations from raw CRSP data: 3234134\n"
     ]
    }
   ],
   "source": [
    "data_path = '/users/ml/git/'    # change to your data folder\n",
    "crsp_monthly_raw = pd.read_csv(data_path + 'crsp_monthly.txt', sep='\\t', engine='python')\n",
    "print 'number of observations from raw CRSP data: %s' % len(crsp_monthly_raw)"
   ]
  },
  {
   "cell_type": "markdown",
   "metadata": {},
   "source": [
    "### Keep stocks in NYSE, AMEX and NASDAQ"
   ]
  },
  {
   "cell_type": "code",
   "execution_count": 3,
   "metadata": {},
   "outputs": [
    {
     "name": "stdout",
     "output_type": "stream",
     "text": [
      "number of observations (NYSE, AMEX, NASDAQ): 3048750\n"
     ]
    }
   ],
   "source": [
    "crsp = crsp_monthly_raw.copy()\n",
    "exchanges = (crsp['exchcd'] == 1) | (crsp['exchcd'] == 2) | (crsp['exchcd'] == 3)\n",
    "crsp = crsp[exchanges]\n",
    "print 'number of observations (NYSE, AMEX, NASDAQ): %s' % len(crsp)"
   ]
  },
  {
   "cell_type": "markdown",
   "metadata": {},
   "source": [
    "### Keep common stocks"
   ]
  },
  {
   "cell_type": "code",
   "execution_count": 4,
   "metadata": {},
   "outputs": [
    {
     "name": "stdout",
     "output_type": "stream",
     "text": [
      "number of observations (common stocks): 2408278\n"
     ]
    }
   ],
   "source": [
    "share_types = (crsp['shrcd'] == 10) | (crsp['shrcd'] == 11)\n",
    "crsp = crsp[share_types]\n",
    "print 'number of observations (common stocks): %s' % len(crsp)"
   ]
  },
  {
   "cell_type": "markdown",
   "metadata": {},
   "source": [
    "### Remove duplicates"
   ]
  },
  {
   "cell_type": "code",
   "execution_count": 5,
   "metadata": {},
   "outputs": [
    {
     "name": "stdout",
     "output_type": "stream",
     "text": [
      "number of observations (delete duplicates): 2399080\n"
     ]
    }
   ],
   "source": [
    "crsp = crsp.drop_duplicates(subset=['permno', 'date'], keep='last')\n",
    "print 'number of observations (delete duplicates): %s' % len(crsp)"
   ]
  },
  {
   "cell_type": "markdown",
   "metadata": {},
   "source": [
    "### Sort data"
   ]
  },
  {
   "cell_type": "code",
   "execution_count": 6,
   "metadata": {},
   "outputs": [
    {
     "data": {
      "text/html": [
       "<div>\n",
       "<table border=\"1\" class=\"dataframe\">\n",
       "  <thead>\n",
       "    <tr style=\"text-align: right;\">\n",
       "      <th></th>\n",
       "      <th>permno</th>\n",
       "      <th>cusip</th>\n",
       "      <th>date</th>\n",
       "      <th>ret</th>\n",
       "      <th>prc</th>\n",
       "      <th>shrout</th>\n",
       "      <th>exchcd</th>\n",
       "      <th>shrcd</th>\n",
       "      <th>vol</th>\n",
       "      <th>bid</th>\n",
       "      <th>ask</th>\n",
       "      <th>vwretd</th>\n",
       "      <th>siccd</th>\n",
       "      <th>ncusip</th>\n",
       "      <th>cfacpr</th>\n",
       "      <th>cfacshr</th>\n",
       "      <th>dlret</th>\n",
       "      <th>dlstcd</th>\n",
       "      <th>dlpdt</th>\n",
       "    </tr>\n",
       "  </thead>\n",
       "  <tbody>\n",
       "    <tr>\n",
       "      <th>0</th>\n",
       "      <td>10000</td>\n",
       "      <td>68391610</td>\n",
       "      <td>19860131</td>\n",
       "      <td>C</td>\n",
       "      <td>-4.37500</td>\n",
       "      <td>3680.0</td>\n",
       "      <td>3.0</td>\n",
       "      <td>10.0</td>\n",
       "      <td>1771.0</td>\n",
       "      <td>NaN</td>\n",
       "      <td>NaN</td>\n",
       "      <td>0.009829</td>\n",
       "      <td>3990</td>\n",
       "      <td>68391610</td>\n",
       "      <td>1.0</td>\n",
       "      <td>1.0</td>\n",
       "      <td>NaN</td>\n",
       "      <td>NaN</td>\n",
       "      <td>NaN</td>\n",
       "    </tr>\n",
       "    <tr>\n",
       "      <th>1</th>\n",
       "      <td>10000</td>\n",
       "      <td>68391610</td>\n",
       "      <td>19860228</td>\n",
       "      <td>-0.257143</td>\n",
       "      <td>-3.25000</td>\n",
       "      <td>3680.0</td>\n",
       "      <td>3.0</td>\n",
       "      <td>10.0</td>\n",
       "      <td>828.0</td>\n",
       "      <td>NaN</td>\n",
       "      <td>NaN</td>\n",
       "      <td>0.072500</td>\n",
       "      <td>3990</td>\n",
       "      <td>68391610</td>\n",
       "      <td>1.0</td>\n",
       "      <td>1.0</td>\n",
       "      <td>NaN</td>\n",
       "      <td>NaN</td>\n",
       "      <td>NaN</td>\n",
       "    </tr>\n",
       "    <tr>\n",
       "      <th>2</th>\n",
       "      <td>10000</td>\n",
       "      <td>68391610</td>\n",
       "      <td>19860331</td>\n",
       "      <td>0.365385</td>\n",
       "      <td>-4.43750</td>\n",
       "      <td>3680.0</td>\n",
       "      <td>3.0</td>\n",
       "      <td>10.0</td>\n",
       "      <td>1078.0</td>\n",
       "      <td>NaN</td>\n",
       "      <td>NaN</td>\n",
       "      <td>0.053885</td>\n",
       "      <td>3990</td>\n",
       "      <td>68391610</td>\n",
       "      <td>1.0</td>\n",
       "      <td>1.0</td>\n",
       "      <td>NaN</td>\n",
       "      <td>NaN</td>\n",
       "      <td>NaN</td>\n",
       "    </tr>\n",
       "    <tr>\n",
       "      <th>3</th>\n",
       "      <td>10000</td>\n",
       "      <td>68391610</td>\n",
       "      <td>19860430</td>\n",
       "      <td>-0.098592</td>\n",
       "      <td>-4.00000</td>\n",
       "      <td>3793.0</td>\n",
       "      <td>3.0</td>\n",
       "      <td>10.0</td>\n",
       "      <td>957.0</td>\n",
       "      <td>NaN</td>\n",
       "      <td>NaN</td>\n",
       "      <td>-0.007903</td>\n",
       "      <td>3990</td>\n",
       "      <td>68391610</td>\n",
       "      <td>1.0</td>\n",
       "      <td>1.0</td>\n",
       "      <td>NaN</td>\n",
       "      <td>NaN</td>\n",
       "      <td>NaN</td>\n",
       "    </tr>\n",
       "    <tr>\n",
       "      <th>4</th>\n",
       "      <td>10000</td>\n",
       "      <td>68391610</td>\n",
       "      <td>19860530</td>\n",
       "      <td>-0.222656</td>\n",
       "      <td>-3.10938</td>\n",
       "      <td>3793.0</td>\n",
       "      <td>3.0</td>\n",
       "      <td>10.0</td>\n",
       "      <td>1074.0</td>\n",
       "      <td>NaN</td>\n",
       "      <td>NaN</td>\n",
       "      <td>0.050844</td>\n",
       "      <td>3990</td>\n",
       "      <td>68391610</td>\n",
       "      <td>1.0</td>\n",
       "      <td>1.0</td>\n",
       "      <td>NaN</td>\n",
       "      <td>NaN</td>\n",
       "      <td>NaN</td>\n",
       "    </tr>\n",
       "    <tr>\n",
       "      <th>5</th>\n",
       "      <td>10000</td>\n",
       "      <td>68391610</td>\n",
       "      <td>19860630</td>\n",
       "      <td>-0.005025</td>\n",
       "      <td>-3.09375</td>\n",
       "      <td>3793.0</td>\n",
       "      <td>3.0</td>\n",
       "      <td>10.0</td>\n",
       "      <td>1069.0</td>\n",
       "      <td>NaN</td>\n",
       "      <td>NaN</td>\n",
       "      <td>0.014246</td>\n",
       "      <td>3990</td>\n",
       "      <td>68391610</td>\n",
       "      <td>1.0</td>\n",
       "      <td>1.0</td>\n",
       "      <td>NaN</td>\n",
       "      <td>NaN</td>\n",
       "      <td>NaN</td>\n",
       "    </tr>\n",
       "    <tr>\n",
       "      <th>6</th>\n",
       "      <td>10000</td>\n",
       "      <td>68391610</td>\n",
       "      <td>19860731</td>\n",
       "      <td>-0.080808</td>\n",
       "      <td>-2.84375</td>\n",
       "      <td>3793.0</td>\n",
       "      <td>3.0</td>\n",
       "      <td>10.0</td>\n",
       "      <td>1163.0</td>\n",
       "      <td>NaN</td>\n",
       "      <td>NaN</td>\n",
       "      <td>-0.059700</td>\n",
       "      <td>3990</td>\n",
       "      <td>68391610</td>\n",
       "      <td>1.0</td>\n",
       "      <td>1.0</td>\n",
       "      <td>NaN</td>\n",
       "      <td>NaN</td>\n",
       "      <td>NaN</td>\n",
       "    </tr>\n",
       "    <tr>\n",
       "      <th>7</th>\n",
       "      <td>10000</td>\n",
       "      <td>68391610</td>\n",
       "      <td>19860829</td>\n",
       "      <td>-0.615385</td>\n",
       "      <td>-1.09375</td>\n",
       "      <td>3793.0</td>\n",
       "      <td>3.0</td>\n",
       "      <td>10.0</td>\n",
       "      <td>3049.0</td>\n",
       "      <td>NaN</td>\n",
       "      <td>NaN</td>\n",
       "      <td>0.066181</td>\n",
       "      <td>3990</td>\n",
       "      <td>68391610</td>\n",
       "      <td>1.0</td>\n",
       "      <td>1.0</td>\n",
       "      <td>NaN</td>\n",
       "      <td>NaN</td>\n",
       "      <td>NaN</td>\n",
       "    </tr>\n",
       "    <tr>\n",
       "      <th>8</th>\n",
       "      <td>10000</td>\n",
       "      <td>68391610</td>\n",
       "      <td>19860930</td>\n",
       "      <td>-0.057143</td>\n",
       "      <td>-1.03125</td>\n",
       "      <td>3793.0</td>\n",
       "      <td>3.0</td>\n",
       "      <td>10.0</td>\n",
       "      <td>3551.0</td>\n",
       "      <td>NaN</td>\n",
       "      <td>NaN</td>\n",
       "      <td>-0.079021</td>\n",
       "      <td>3990</td>\n",
       "      <td>68391610</td>\n",
       "      <td>1.0</td>\n",
       "      <td>1.0</td>\n",
       "      <td>NaN</td>\n",
       "      <td>NaN</td>\n",
       "      <td>NaN</td>\n",
       "    </tr>\n",
       "    <tr>\n",
       "      <th>9</th>\n",
       "      <td>10000</td>\n",
       "      <td>68391610</td>\n",
       "      <td>19861031</td>\n",
       "      <td>-0.242424</td>\n",
       "      <td>-0.78125</td>\n",
       "      <td>3843.0</td>\n",
       "      <td>3.0</td>\n",
       "      <td>10.0</td>\n",
       "      <td>1903.0</td>\n",
       "      <td>NaN</td>\n",
       "      <td>NaN</td>\n",
       "      <td>0.049303</td>\n",
       "      <td>3990</td>\n",
       "      <td>68391610</td>\n",
       "      <td>1.0</td>\n",
       "      <td>1.0</td>\n",
       "      <td>NaN</td>\n",
       "      <td>NaN</td>\n",
       "      <td>NaN</td>\n",
       "    </tr>\n",
       "  </tbody>\n",
       "</table>\n",
       "</div>"
      ],
      "text/plain": [
       "   permno     cusip      date        ret      prc  shrout  exchcd  shrcd  \\\n",
       "0   10000  68391610  19860131          C -4.37500  3680.0     3.0   10.0   \n",
       "1   10000  68391610  19860228  -0.257143 -3.25000  3680.0     3.0   10.0   \n",
       "2   10000  68391610  19860331   0.365385 -4.43750  3680.0     3.0   10.0   \n",
       "3   10000  68391610  19860430  -0.098592 -4.00000  3793.0     3.0   10.0   \n",
       "4   10000  68391610  19860530  -0.222656 -3.10938  3793.0     3.0   10.0   \n",
       "5   10000  68391610  19860630  -0.005025 -3.09375  3793.0     3.0   10.0   \n",
       "6   10000  68391610  19860731  -0.080808 -2.84375  3793.0     3.0   10.0   \n",
       "7   10000  68391610  19860829  -0.615385 -1.09375  3793.0     3.0   10.0   \n",
       "8   10000  68391610  19860930  -0.057143 -1.03125  3793.0     3.0   10.0   \n",
       "9   10000  68391610  19861031  -0.242424 -0.78125  3843.0     3.0   10.0   \n",
       "\n",
       "      vol  bid  ask    vwretd siccd    ncusip  cfacpr  cfacshr dlret  dlstcd  \\\n",
       "0  1771.0  NaN  NaN  0.009829  3990  68391610     1.0      1.0   NaN     NaN   \n",
       "1   828.0  NaN  NaN  0.072500  3990  68391610     1.0      1.0   NaN     NaN   \n",
       "2  1078.0  NaN  NaN  0.053885  3990  68391610     1.0      1.0   NaN     NaN   \n",
       "3   957.0  NaN  NaN -0.007903  3990  68391610     1.0      1.0   NaN     NaN   \n",
       "4  1074.0  NaN  NaN  0.050844  3990  68391610     1.0      1.0   NaN     NaN   \n",
       "5  1069.0  NaN  NaN  0.014246  3990  68391610     1.0      1.0   NaN     NaN   \n",
       "6  1163.0  NaN  NaN -0.059700  3990  68391610     1.0      1.0   NaN     NaN   \n",
       "7  3049.0  NaN  NaN  0.066181  3990  68391610     1.0      1.0   NaN     NaN   \n",
       "8  3551.0  NaN  NaN -0.079021  3990  68391610     1.0      1.0   NaN     NaN   \n",
       "9  1903.0  NaN  NaN  0.049303  3990  68391610     1.0      1.0   NaN     NaN   \n",
       "\n",
       "   dlpdt  \n",
       "0    NaN  \n",
       "1    NaN  \n",
       "2    NaN  \n",
       "3    NaN  \n",
       "4    NaN  \n",
       "5    NaN  \n",
       "6    NaN  \n",
       "7    NaN  \n",
       "8    NaN  \n",
       "9    NaN  "
      ]
     },
     "execution_count": 6,
     "metadata": {},
     "output_type": "execute_result"
    }
   ],
   "source": [
    "crsp = crsp.sort_values(['permno', 'date']).reset_index(drop=True)\n",
    "crsp.head(10)"
   ]
  },
  {
   "cell_type": "markdown",
   "metadata": {},
   "source": [
    "### Save clean data for future use"
   ]
  },
  {
   "cell_type": "code",
   "execution_count": 7,
   "metadata": {
    "collapsed": true
   },
   "outputs": [],
   "source": [
    "crsp.to_csv(data_path + 'crsp_monthly_clean.txt', sep='\\t', index=False)"
   ]
  }
 ],
 "metadata": {
  "kernelspec": {
   "display_name": "Python 2",
   "language": "python",
   "name": "python2"
  },
  "language_info": {
   "codemirror_mode": {
    "name": "ipython",
    "version": 2
   },
   "file_extension": ".py",
   "mimetype": "text/x-python",
   "name": "python",
   "nbconvert_exporter": "python",
   "pygments_lexer": "ipython2",
   "version": "2.7.13"
  }
 },
 "nbformat": 4,
 "nbformat_minor": 2
}
