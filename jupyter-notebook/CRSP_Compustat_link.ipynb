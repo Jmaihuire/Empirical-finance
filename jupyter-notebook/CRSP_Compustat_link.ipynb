{
 "cells": [
  {
   "cell_type": "markdown",
   "metadata": {},
   "source": [
    "## Merge CRSP and Compustat\n",
    "The purpose of this file is to demnostrate how to merge CRSP and Compustat to map PERMNO-GVKEY pairs without CRSP-Compustat Merge table (CCM).\n",
    "However, you should keep in mind that CCM will always give you more complete match than using CUSIP or NCUSIP. "
   ]
  },
  {
   "cell_type": "code",
   "execution_count": 1,
   "metadata": {
    "collapsed": true
   },
   "outputs": [],
   "source": [
    "import pandas as pd\n",
    "import numpy as np\n",
    "from matplotlib import pyplot as plt\n",
    "from pandasql import sqldf\n",
    "\n",
    "pysql = lambda q: sqldf(q,globals())\n",
    "pd.options.display.width = 180"
   ]
  },
  {
   "cell_type": "markdown",
   "metadata": {},
   "source": [
    "### Read required data\n",
    "We need the following data:\n",
    "1. CRSP monthly stock file\n",
    "2. CRSP stock name history file\n",
    "3. Compustat stock name history file\n",
    "\n",
    "For second and third dataset, you can retrieve via WRDS cloud. The source is **crsp.msenames** and **comp.security**."
   ]
  },
  {
   "cell_type": "code",
   "execution_count": 2,
   "metadata": {
    "collapsed": true
   },
   "outputs": [],
   "source": [
    "# Read CRSP stock history file\n",
    "msenames = pd.read_csv('/users/ml/data/wrds/raw/msenames.txt',sep='\\t')\n",
    "msenames.columns = msenames.columns.map(str.lower)\n",
    "msenames_1 = msenames[['permno','cusip','ncusip','namedt','nameendt','comnam','ticker','shrcd','exchcd']].copy()\n",
    "msenames_1 = msenames_1.sort_values(['permno','namedt']).reset_index(drop=True)\n",
    "\n",
    "# Read Compustat stock history file\n",
    "security = pd.read_csv('/users/ml/data/wrds/raw/security.txt',sep='\\t')\n",
    "security.columns = security.columns.map(str.lower)\n",
    "# Convert Compustat 9-digit CUSIP to 8-digit CUSIP\n",
    "security['cusip'] = security['cusip'].apply(lambda x: str(x)[:8])\n",
    "security['ncusip'] = security['cusip']\n",
    "# Remove missing CUSIP and keep stocks listing in US stock exchanges (this can remove dual listing in US and Canada)\n",
    "security_1 = security[(security['cusip'].notnull())&(security['cusip']!='nan')&(security['excntry']=='USA')].copy()\n",
    "security_1 = security_1.sort_values('gvkey').reset_index(drop=True)\n",
    "\n",
    "# Read CRSP monthly file\n",
    "# This file already deletes duplicates and keeps only stocks listing in NYSE/NASDAQ/AMEX\n",
    "msf = (pd.read_hdf('/users/ml/data/clean/wrds/msf.h5','msf',\n",
    "                   columns=['permno','permco','cusip','date','ncusip','comnam','ticker','shrcd','exchcd']))\n",
    "# Keep common shares and stock with NCUSIP\n",
    "# Stocks without NCUSIP in their whole life cannot match with Compustat,\n",
    "# because such stocks have no official CUSIP and the CUSIP is a dummy CUSIP assigned by CRSP\n",
    "msf_1 = msf[msf['shrcd'].isin([10,11])&(msf['ncusip'].notnull())].copy()"
   ]
  },
  {
   "cell_type": "markdown",
   "metadata": {},
   "source": [
    "### PERMNO-GVKEY link using current CUSIP\n",
    "The drawback of this way is that the merge is not accurate if you do not download the two databases at the same time.\n",
    "For example, your CRSP is downloaded 2 years ago and your Compustat is downloaded recently. Some CUSIPs may already change and be updated then you can never match them by the latest CUSIP."
   ]
  },
  {
   "cell_type": "code",
   "execution_count": 3,
   "metadata": {},
   "outputs": [
    {
     "name": "stdout",
     "output_type": "stream",
     "text": [
      "Number of matched PERMNO-GVKEY: 19260\n",
      "Percent of match: 82.4%\n"
     ]
    }
   ],
   "source": [
    "crsp_cusip = msf_1.drop_duplicates(subset='cusip')[['permno','cusip','ncusip','comnam','ticker']]\n",
    "crsp_cusip = crsp_cusip.sort_values('cusip').reset_index(drop=True)\n",
    "link_cc_all = crsp_cusip.merge(security_1[['gvkey','cusip']],how='left',on='cusip')\n",
    "link_cc = crsp_cusip.merge(security_1[['gvkey','cusip']],how='inner',on='cusip')\n",
    "print('Number of matched PERMNO-GVKEY: {}'.format(len(link_cc)))\n",
    "print('Percent of match: {:3.1%}'.format(len(link_cc)/len(link_cc_all)))"
   ]
  },
  {
   "cell_type": "markdown",
   "metadata": {},
   "source": [
    "### PERMNO-GVKEY link using NCUSIP\n",
    "Here using NCUSIP means using CRSP NCUSIP to merge Compustat CUSIP (Compustat does not keep historical CUSIP)."
   ]
  },
  {
   "cell_type": "code",
   "execution_count": 4,
   "metadata": {},
   "outputs": [
    {
     "name": "stdout",
     "output_type": "stream",
     "text": [
      "Number of matched PERMNO-GVKEY: 19526\n",
      "Percent of match: 83.6%\n"
     ]
    }
   ],
   "source": [
    "# Keep stocks with NCUSIP respect to correct date range\n",
    "# Observations may exist even after the end of name\n",
    "ncusip_track = pysql(\"\"\"select a.permno,a.cusip,a.ncusip,a.date,a.comnam,a.ticker,b.namedt,b.nameendt\n",
    "                   from msf_1 a inner join msenames_1 b \n",
    "                   on a.permno=b.permno and a.date>=b.namedt and a.date<=b.nameendt;\"\"\")\n",
    "\n",
    "permno_gvkey = msenames_1.merge(security_1[['gvkey','ncusip']],how='inner',on='ncusip')\n",
    "permno_gvkey = permno_gvkey.sort_values(['permno','ncusip']).reset_index(drop=True)\n",
    "link_nc_all = ncusip_track[['permno','cusip','ncusip']].merge(permno_gvkey[['permno','gvkey']],how='left',on='permno')\n",
    "link_nc_all = link_nc_all.drop_duplicates(subset='permno')\n",
    "link_nc = ncusip_track[['permno','cusip','ncusip']].merge(permno_gvkey[['permno','gvkey']],how='inner',on='permno')\n",
    "link_nc = link_nc.drop_duplicates(subset=['permno','gvkey'])\n",
    "link_nc = link_nc.sort_values(['permno','gvkey']).reset_index(drop=True)\n",
    "print('Number of matched PERMNO-GVKEY: {}'.format(len(link_nc)))\n",
    "print('Percent of match: {:3.1%}'.format(len(link_nc)/len(link_nc_all)))"
   ]
  },
  {
   "cell_type": "markdown",
   "metadata": {},
   "source": [
    "### Some checks\n",
    "Overall, there are more matched pairs using NCUSIP than CUSIP, although the difference is small. The missing pairs using CUSIP method are due to two secnarios:\n",
    "1. Never match with Compustat: there is no match between CRSP CUSIP and Compustat CUSIP.\n",
    "2. Only match with Compustat in a specific period: one PERMNO may have multiple GVKEYs."
   ]
  },
  {
   "cell_type": "markdown",
   "metadata": {},
   "source": [
    "#### Never match case"
   ]
  },
  {
   "cell_type": "code",
   "execution_count": 5,
   "metadata": {},
   "outputs": [
    {
     "data": {
      "text/html": [
       "<div>\n",
       "<style>\n",
       "    .dataframe thead tr:only-child th {\n",
       "        text-align: right;\n",
       "    }\n",
       "\n",
       "    .dataframe thead th {\n",
       "        text-align: left;\n",
       "    }\n",
       "\n",
       "    .dataframe tbody tr th {\n",
       "        vertical-align: top;\n",
       "    }\n",
       "</style>\n",
       "<table border=\"1\" class=\"dataframe\">\n",
       "  <thead>\n",
       "    <tr style=\"text-align: right;\">\n",
       "      <th></th>\n",
       "      <th>permno</th>\n",
       "      <th>cusip</th>\n",
       "      <th>ncusip</th>\n",
       "      <th>comnam</th>\n",
       "      <th>ticker</th>\n",
       "      <th>gvkey</th>\n",
       "    </tr>\n",
       "  </thead>\n",
       "  <tbody>\n",
       "  </tbody>\n",
       "</table>\n",
       "</div>"
      ],
      "text/plain": [
       "Empty DataFrame\n",
       "Columns: [permno, cusip, ncusip, comnam, ticker, gvkey]\n",
       "Index: []"
      ]
     },
     "execution_count": 5,
     "metadata": {},
     "output_type": "execute_result"
    }
   ],
   "source": [
    "# There is no matched GVKEY for PERMNO 92321 using CUSIP method\n",
    "link_cc[link_cc['permno']==92321]"
   ]
  },
  {
   "cell_type": "code",
   "execution_count": 6,
   "metadata": {},
   "outputs": [
    {
     "data": {
      "text/html": [
       "<div>\n",
       "<style>\n",
       "    .dataframe thead tr:only-child th {\n",
       "        text-align: right;\n",
       "    }\n",
       "\n",
       "    .dataframe thead th {\n",
       "        text-align: left;\n",
       "    }\n",
       "\n",
       "    .dataframe tbody tr th {\n",
       "        vertical-align: top;\n",
       "    }\n",
       "</style>\n",
       "<table border=\"1\" class=\"dataframe\">\n",
       "  <thead>\n",
       "    <tr style=\"text-align: right;\">\n",
       "      <th></th>\n",
       "      <th>permno</th>\n",
       "      <th>cusip</th>\n",
       "      <th>ncusip</th>\n",
       "      <th>gvkey</th>\n",
       "    </tr>\n",
       "  </thead>\n",
       "  <tbody>\n",
       "    <tr>\n",
       "      <th>19087</th>\n",
       "      <td>92321</td>\n",
       "      <td>87670L10</td>\n",
       "      <td>87670110</td>\n",
       "      <td>10346</td>\n",
       "    </tr>\n",
       "  </tbody>\n",
       "</table>\n",
       "</div>"
      ],
      "text/plain": [
       "       permno     cusip    ncusip  gvkey\n",
       "19087   92321  87670L10  87670110  10346"
      ]
     },
     "execution_count": 6,
     "metadata": {},
     "output_type": "execute_result"
    }
   ],
   "source": [
    "# There is a matched GVKEY for PERMNO 92321 using NCUSIP method\n",
    "link_nc[link_nc['permno']==92321]"
   ]
  },
  {
   "cell_type": "code",
   "execution_count": 7,
   "metadata": {},
   "outputs": [
    {
     "data": {
      "text/html": [
       "<div>\n",
       "<style>\n",
       "    .dataframe thead tr:only-child th {\n",
       "        text-align: right;\n",
       "    }\n",
       "\n",
       "    .dataframe thead th {\n",
       "        text-align: left;\n",
       "    }\n",
       "\n",
       "    .dataframe tbody tr th {\n",
       "        vertical-align: top;\n",
       "    }\n",
       "</style>\n",
       "<table border=\"1\" class=\"dataframe\">\n",
       "  <thead>\n",
       "    <tr style=\"text-align: right;\">\n",
       "      <th></th>\n",
       "      <th>permno</th>\n",
       "      <th>cusip</th>\n",
       "      <th>ncusip</th>\n",
       "      <th>namedt</th>\n",
       "      <th>nameendt</th>\n",
       "      <th>comnam</th>\n",
       "      <th>ticker</th>\n",
       "      <th>shrcd</th>\n",
       "      <th>exchcd</th>\n",
       "    </tr>\n",
       "  </thead>\n",
       "  <tbody>\n",
       "    <tr>\n",
       "      <th>92666</th>\n",
       "      <td>92321</td>\n",
       "      <td>87670L10</td>\n",
       "      <td>87670110</td>\n",
       "      <td>19800604</td>\n",
       "      <td>19821031</td>\n",
       "      <td>TAURUS OIL CORP</td>\n",
       "      <td>TAUR</td>\n",
       "      <td>11</td>\n",
       "      <td>3</td>\n",
       "    </tr>\n",
       "    <tr>\n",
       "      <th>92667</th>\n",
       "      <td>92321</td>\n",
       "      <td>87670L10</td>\n",
       "      <td>87670110</td>\n",
       "      <td>19821101</td>\n",
       "      <td>19830113</td>\n",
       "      <td>TAURUS OIL CORP</td>\n",
       "      <td>TAUR</td>\n",
       "      <td>11</td>\n",
       "      <td>3</td>\n",
       "    </tr>\n",
       "    <tr>\n",
       "      <th>92668</th>\n",
       "      <td>92321</td>\n",
       "      <td>87670L10</td>\n",
       "      <td>87670110</td>\n",
       "      <td>19830114</td>\n",
       "      <td>19830516</td>\n",
       "      <td>TAURUS OIL CORP</td>\n",
       "      <td>TAUR</td>\n",
       "      <td>11</td>\n",
       "      <td>3</td>\n",
       "    </tr>\n",
       "    <tr>\n",
       "      <th>92669</th>\n",
       "      <td>92321</td>\n",
       "      <td>87670L10</td>\n",
       "      <td>87670110</td>\n",
       "      <td>19830517</td>\n",
       "      <td>19850120</td>\n",
       "      <td>TAURUS OIL CORP</td>\n",
       "      <td>NaN</td>\n",
       "      <td>11</td>\n",
       "      <td>0</td>\n",
       "    </tr>\n",
       "    <tr>\n",
       "      <th>92670</th>\n",
       "      <td>92321</td>\n",
       "      <td>87670L10</td>\n",
       "      <td>87670L10</td>\n",
       "      <td>19850121</td>\n",
       "      <td>19900730</td>\n",
       "      <td>TAURUS PETROLEUM INC</td>\n",
       "      <td>TAUR</td>\n",
       "      <td>11</td>\n",
       "      <td>3</td>\n",
       "    </tr>\n",
       "  </tbody>\n",
       "</table>\n",
       "</div>"
      ],
      "text/plain": [
       "       permno     cusip    ncusip    namedt  nameendt                comnam ticker  shrcd  exchcd\n",
       "92666   92321  87670L10  87670110  19800604  19821031       TAURUS OIL CORP   TAUR     11       3\n",
       "92667   92321  87670L10  87670110  19821101  19830113       TAURUS OIL CORP   TAUR     11       3\n",
       "92668   92321  87670L10  87670110  19830114  19830516       TAURUS OIL CORP   TAUR     11       3\n",
       "92669   92321  87670L10  87670110  19830517  19850120       TAURUS OIL CORP    NaN     11       0\n",
       "92670   92321  87670L10  87670L10  19850121  19900730  TAURUS PETROLEUM INC   TAUR     11       3"
      ]
     },
     "execution_count": 7,
     "metadata": {},
     "output_type": "execute_result"
    }
   ],
   "source": [
    "msenames_1[msenames_1['permno']==92321]"
   ]
  },
  {
   "cell_type": "code",
   "execution_count": 8,
   "metadata": {},
   "outputs": [
    {
     "data": {
      "text/html": [
       "<div>\n",
       "<style>\n",
       "    .dataframe thead tr:only-child th {\n",
       "        text-align: right;\n",
       "    }\n",
       "\n",
       "    .dataframe thead th {\n",
       "        text-align: left;\n",
       "    }\n",
       "\n",
       "    .dataframe tbody tr th {\n",
       "        vertical-align: top;\n",
       "    }\n",
       "</style>\n",
       "<table border=\"1\" class=\"dataframe\">\n",
       "  <thead>\n",
       "    <tr style=\"text-align: right;\">\n",
       "      <th></th>\n",
       "      <th>gvkey</th>\n",
       "      <th>cusip</th>\n",
       "      <th>iid</th>\n",
       "      <th>tic</th>\n",
       "      <th>tpci</th>\n",
       "    </tr>\n",
       "  </thead>\n",
       "  <tbody>\n",
       "  </tbody>\n",
       "</table>\n",
       "</div>"
      ],
      "text/plain": [
       "Empty DataFrame\n",
       "Columns: [gvkey, cusip, iid, tic, tpci]\n",
       "Index: []"
      ]
     },
     "execution_count": 8,
     "metadata": {},
     "output_type": "execute_result"
    }
   ],
   "source": [
    "# There is no this CUSIP in Compustat, this is why there is no matched GVKEY using CUSIP \n",
    "security_1[security_1['cusip']=='87670L10'][['gvkey','cusip','iid','tic','tpci']]"
   ]
  },
  {
   "cell_type": "code",
   "execution_count": 9,
   "metadata": {},
   "outputs": [
    {
     "data": {
      "text/html": [
       "<div>\n",
       "<style>\n",
       "    .dataframe thead tr:only-child th {\n",
       "        text-align: right;\n",
       "    }\n",
       "\n",
       "    .dataframe thead th {\n",
       "        text-align: left;\n",
       "    }\n",
       "\n",
       "    .dataframe tbody tr th {\n",
       "        vertical-align: top;\n",
       "    }\n",
       "</style>\n",
       "<table border=\"1\" class=\"dataframe\">\n",
       "  <thead>\n",
       "    <tr style=\"text-align: right;\">\n",
       "      <th></th>\n",
       "      <th>gvkey</th>\n",
       "      <th>cusip</th>\n",
       "      <th>iid</th>\n",
       "      <th>tic</th>\n",
       "      <th>tpci</th>\n",
       "    </tr>\n",
       "  </thead>\n",
       "  <tbody>\n",
       "    <tr>\n",
       "      <th>10035</th>\n",
       "      <td>10346</td>\n",
       "      <td>87670110</td>\n",
       "      <td>01</td>\n",
       "      <td>TAURC</td>\n",
       "      <td>0</td>\n",
       "    </tr>\n",
       "  </tbody>\n",
       "</table>\n",
       "</div>"
      ],
      "text/plain": [
       "       gvkey     cusip iid    tic tpci\n",
       "10035  10346  87670110  01  TAURC    0"
      ]
     },
     "execution_count": 9,
     "metadata": {},
     "output_type": "execute_result"
    }
   ],
   "source": [
    "# Using the matched PERMNO-GVKEY pair, we can check if the CUSIP \n",
    "security_1[security_1['gvkey']==10346][['gvkey','cusip','iid','tic','tpci']]"
   ]
  },
  {
   "cell_type": "markdown",
   "metadata": {},
   "source": [
    "#### Incomplete match case"
   ]
  },
  {
   "cell_type": "code",
   "execution_count": 10,
   "metadata": {},
   "outputs": [
    {
     "data": {
      "text/html": [
       "<div>\n",
       "<style>\n",
       "    .dataframe thead tr:only-child th {\n",
       "        text-align: right;\n",
       "    }\n",
       "\n",
       "    .dataframe thead th {\n",
       "        text-align: left;\n",
       "    }\n",
       "\n",
       "    .dataframe tbody tr th {\n",
       "        vertical-align: top;\n",
       "    }\n",
       "</style>\n",
       "<table border=\"1\" class=\"dataframe\">\n",
       "  <thead>\n",
       "    <tr style=\"text-align: right;\">\n",
       "      <th></th>\n",
       "      <th>permno</th>\n",
       "      <th>cusip</th>\n",
       "      <th>ncusip</th>\n",
       "      <th>comnam</th>\n",
       "      <th>ticker</th>\n",
       "      <th>gvkey</th>\n",
       "    </tr>\n",
       "  </thead>\n",
       "  <tbody>\n",
       "    <tr>\n",
       "      <th>19120</th>\n",
       "      <td>64822</td>\n",
       "      <td>98872F10</td>\n",
       "      <td>74721510</td>\n",
       "      <td>PYRAMID OIL CO</td>\n",
       "      <td>PYOL</td>\n",
       "      <td>28788</td>\n",
       "    </tr>\n",
       "  </tbody>\n",
       "</table>\n",
       "</div>"
      ],
      "text/plain": [
       "       permno     cusip    ncusip          comnam ticker  gvkey\n",
       "19120   64822  98872F10  74721510  PYRAMID OIL CO   PYOL  28788"
      ]
     },
     "execution_count": 10,
     "metadata": {},
     "output_type": "execute_result"
    }
   ],
   "source": [
    "link_cc[link_cc['permno']==64822]"
   ]
  },
  {
   "cell_type": "code",
   "execution_count": 11,
   "metadata": {},
   "outputs": [
    {
     "data": {
      "text/html": [
       "<div>\n",
       "<style>\n",
       "    .dataframe thead tr:only-child th {\n",
       "        text-align: right;\n",
       "    }\n",
       "\n",
       "    .dataframe thead th {\n",
       "        text-align: left;\n",
       "    }\n",
       "\n",
       "    .dataframe tbody tr th {\n",
       "        vertical-align: top;\n",
       "    }\n",
       "</style>\n",
       "<table border=\"1\" class=\"dataframe\">\n",
       "  <thead>\n",
       "    <tr style=\"text-align: right;\">\n",
       "      <th></th>\n",
       "      <th>permno</th>\n",
       "      <th>cusip</th>\n",
       "      <th>ncusip</th>\n",
       "      <th>gvkey</th>\n",
       "    </tr>\n",
       "  </thead>\n",
       "  <tbody>\n",
       "    <tr>\n",
       "      <th>8645</th>\n",
       "      <td>64822</td>\n",
       "      <td>98872F10</td>\n",
       "      <td>74721510</td>\n",
       "      <td>8838</td>\n",
       "    </tr>\n",
       "    <tr>\n",
       "      <th>8646</th>\n",
       "      <td>64822</td>\n",
       "      <td>98872F10</td>\n",
       "      <td>74721510</td>\n",
       "      <td>21732</td>\n",
       "    </tr>\n",
       "    <tr>\n",
       "      <th>8647</th>\n",
       "      <td>64822</td>\n",
       "      <td>98872F10</td>\n",
       "      <td>74721510</td>\n",
       "      <td>28788</td>\n",
       "    </tr>\n",
       "  </tbody>\n",
       "</table>\n",
       "</div>"
      ],
      "text/plain": [
       "      permno     cusip    ncusip  gvkey\n",
       "8645   64822  98872F10  74721510   8838\n",
       "8646   64822  98872F10  74721510  21732\n",
       "8647   64822  98872F10  74721510  28788"
      ]
     },
     "execution_count": 11,
     "metadata": {},
     "output_type": "execute_result"
    }
   ],
   "source": [
    "link_nc[link_nc['permno']==64822]"
   ]
  },
  {
   "cell_type": "code",
   "execution_count": 12,
   "metadata": {},
   "outputs": [
    {
     "data": {
      "text/html": [
       "<div>\n",
       "<style>\n",
       "    .dataframe thead tr:only-child th {\n",
       "        text-align: right;\n",
       "    }\n",
       "\n",
       "    .dataframe thead th {\n",
       "        text-align: left;\n",
       "    }\n",
       "\n",
       "    .dataframe tbody tr th {\n",
       "        vertical-align: top;\n",
       "    }\n",
       "</style>\n",
       "<table border=\"1\" class=\"dataframe\">\n",
       "  <thead>\n",
       "    <tr style=\"text-align: right;\">\n",
       "      <th></th>\n",
       "      <th>permno</th>\n",
       "      <th>cusip</th>\n",
       "      <th>ncusip</th>\n",
       "      <th>namedt</th>\n",
       "      <th>nameendt</th>\n",
       "      <th>comnam</th>\n",
       "      <th>ticker</th>\n",
       "      <th>shrcd</th>\n",
       "      <th>exchcd</th>\n",
       "    </tr>\n",
       "  </thead>\n",
       "  <tbody>\n",
       "    <tr>\n",
       "      <th>41897</th>\n",
       "      <td>64822</td>\n",
       "      <td>98872F10</td>\n",
       "      <td>74721510</td>\n",
       "      <td>19760719</td>\n",
       "      <td>19920707</td>\n",
       "      <td>PYRAMID OIL CO</td>\n",
       "      <td>PYOL</td>\n",
       "      <td>10</td>\n",
       "      <td>3</td>\n",
       "    </tr>\n",
       "    <tr>\n",
       "      <th>41898</th>\n",
       "      <td>64822</td>\n",
       "      <td>98872F10</td>\n",
       "      <td>74721510</td>\n",
       "      <td>19920708</td>\n",
       "      <td>20060820</td>\n",
       "      <td>PYRAMID OIL CO</td>\n",
       "      <td>NaN</td>\n",
       "      <td>11</td>\n",
       "      <td>0</td>\n",
       "    </tr>\n",
       "    <tr>\n",
       "      <th>41899</th>\n",
       "      <td>64822</td>\n",
       "      <td>98872F10</td>\n",
       "      <td>74721510</td>\n",
       "      <td>20060821</td>\n",
       "      <td>20140910</td>\n",
       "      <td>PYRAMID OIL CO</td>\n",
       "      <td>PDO</td>\n",
       "      <td>11</td>\n",
       "      <td>2</td>\n",
       "    </tr>\n",
       "    <tr>\n",
       "      <th>41900</th>\n",
       "      <td>64822</td>\n",
       "      <td>98872F10</td>\n",
       "      <td>98872E10</td>\n",
       "      <td>20140911</td>\n",
       "      <td>20161026</td>\n",
       "      <td>YUMA ENERGY INC</td>\n",
       "      <td>YUMA</td>\n",
       "      <td>11</td>\n",
       "      <td>2</td>\n",
       "    </tr>\n",
       "    <tr>\n",
       "      <th>41901</th>\n",
       "      <td>64822</td>\n",
       "      <td>98872F10</td>\n",
       "      <td>98872F10</td>\n",
       "      <td>20161027</td>\n",
       "      <td>20161230</td>\n",
       "      <td>YUMA ENERGY INC NEW</td>\n",
       "      <td>YUMA</td>\n",
       "      <td>11</td>\n",
       "      <td>2</td>\n",
       "    </tr>\n",
       "  </tbody>\n",
       "</table>\n",
       "</div>"
      ],
      "text/plain": [
       "       permno     cusip    ncusip    namedt  nameendt               comnam ticker  shrcd  exchcd\n",
       "41897   64822  98872F10  74721510  19760719  19920707       PYRAMID OIL CO   PYOL     10       3\n",
       "41898   64822  98872F10  74721510  19920708  20060820       PYRAMID OIL CO    NaN     11       0\n",
       "41899   64822  98872F10  74721510  20060821  20140910       PYRAMID OIL CO    PDO     11       2\n",
       "41900   64822  98872F10  98872E10  20140911  20161026      YUMA ENERGY INC   YUMA     11       2\n",
       "41901   64822  98872F10  98872F10  20161027  20161230  YUMA ENERGY INC NEW   YUMA     11       2"
      ]
     },
     "execution_count": 12,
     "metadata": {},
     "output_type": "execute_result"
    }
   ],
   "source": [
    "msenames_1[msenames_1['permno']==64822]"
   ]
  },
  {
   "cell_type": "code",
   "execution_count": 13,
   "metadata": {},
   "outputs": [
    {
     "data": {
      "text/html": [
       "<div>\n",
       "<style>\n",
       "    .dataframe thead tr:only-child th {\n",
       "        text-align: right;\n",
       "    }\n",
       "\n",
       "    .dataframe thead th {\n",
       "        text-align: left;\n",
       "    }\n",
       "\n",
       "    .dataframe tbody tr th {\n",
       "        vertical-align: top;\n",
       "    }\n",
       "</style>\n",
       "<table border=\"1\" class=\"dataframe\">\n",
       "  <thead>\n",
       "    <tr style=\"text-align: right;\">\n",
       "      <th></th>\n",
       "      <th>gvkey</th>\n",
       "      <th>cusip</th>\n",
       "      <th>iid</th>\n",
       "      <th>tic</th>\n",
       "      <th>tpci</th>\n",
       "    </tr>\n",
       "  </thead>\n",
       "  <tbody>\n",
       "    <tr>\n",
       "      <th>8421</th>\n",
       "      <td>8838</td>\n",
       "      <td>74721510</td>\n",
       "      <td>01</td>\n",
       "      <td>PDO</td>\n",
       "      <td>0</td>\n",
       "    </tr>\n",
       "  </tbody>\n",
       "</table>\n",
       "</div>"
      ],
      "text/plain": [
       "      gvkey     cusip iid  tic tpci\n",
       "8421   8838  74721510  01  PDO    0"
      ]
     },
     "execution_count": 13,
     "metadata": {},
     "output_type": "execute_result"
    }
   ],
   "source": [
    "# Match between 1976 and 2014\n",
    "security_1[security_1['gvkey']==8838][['gvkey','cusip','iid','tic','tpci']]"
   ]
  },
  {
   "cell_type": "code",
   "execution_count": 14,
   "metadata": {},
   "outputs": [
    {
     "data": {
      "text/html": [
       "<div>\n",
       "<style>\n",
       "    .dataframe thead tr:only-child th {\n",
       "        text-align: right;\n",
       "    }\n",
       "\n",
       "    .dataframe thead th {\n",
       "        text-align: left;\n",
       "    }\n",
       "\n",
       "    .dataframe tbody tr th {\n",
       "        vertical-align: top;\n",
       "    }\n",
       "</style>\n",
       "<table border=\"1\" class=\"dataframe\">\n",
       "  <thead>\n",
       "    <tr style=\"text-align: right;\">\n",
       "      <th></th>\n",
       "      <th>gvkey</th>\n",
       "      <th>cusip</th>\n",
       "      <th>iid</th>\n",
       "      <th>tic</th>\n",
       "      <th>tpci</th>\n",
       "    </tr>\n",
       "  </thead>\n",
       "  <tbody>\n",
       "    <tr>\n",
       "      <th>19018</th>\n",
       "      <td>21732</td>\n",
       "      <td>98872E10</td>\n",
       "      <td>01</td>\n",
       "      <td>YUMA.1</td>\n",
       "      <td>0</td>\n",
       "    </tr>\n",
       "    <tr>\n",
       "      <th>19019</th>\n",
       "      <td>21732</td>\n",
       "      <td>98872E20</td>\n",
       "      <td>02</td>\n",
       "      <td>YUMA.PA</td>\n",
       "      <td>G</td>\n",
       "    </tr>\n",
       "  </tbody>\n",
       "</table>\n",
       "</div>"
      ],
      "text/plain": [
       "       gvkey     cusip iid      tic tpci\n",
       "19018  21732  98872E10  01   YUMA.1    0\n",
       "19019  21732  98872E20  02  YUMA.PA    G"
      ]
     },
     "execution_count": 14,
     "metadata": {},
     "output_type": "execute_result"
    }
   ],
   "source": [
    "# Match between 2014 and 2016\n",
    "security_1[security_1['gvkey']==21732][['gvkey','cusip','iid','tic','tpci']]"
   ]
  },
  {
   "cell_type": "code",
   "execution_count": 15,
   "metadata": {},
   "outputs": [
    {
     "data": {
      "text/html": [
       "<div>\n",
       "<style>\n",
       "    .dataframe thead tr:only-child th {\n",
       "        text-align: right;\n",
       "    }\n",
       "\n",
       "    .dataframe thead th {\n",
       "        text-align: left;\n",
       "    }\n",
       "\n",
       "    .dataframe tbody tr th {\n",
       "        vertical-align: top;\n",
       "    }\n",
       "</style>\n",
       "<table border=\"1\" class=\"dataframe\">\n",
       "  <thead>\n",
       "    <tr style=\"text-align: right;\">\n",
       "      <th></th>\n",
       "      <th>gvkey</th>\n",
       "      <th>cusip</th>\n",
       "      <th>iid</th>\n",
       "      <th>tic</th>\n",
       "      <th>tpci</th>\n",
       "    </tr>\n",
       "  </thead>\n",
       "  <tbody>\n",
       "    <tr>\n",
       "      <th>23868</th>\n",
       "      <td>28788</td>\n",
       "      <td>98872F10</td>\n",
       "      <td>01</td>\n",
       "      <td>YUMA</td>\n",
       "      <td>0</td>\n",
       "    </tr>\n",
       "  </tbody>\n",
       "</table>\n",
       "</div>"
      ],
      "text/plain": [
       "       gvkey     cusip iid   tic tpci\n",
       "23868  28788  98872F10  01  YUMA    0"
      ]
     },
     "execution_count": 15,
     "metadata": {},
     "output_type": "execute_result"
    }
   ],
   "source": [
    "# Match bewteen 2016 and most recent\n",
    "security_1[security_1['gvkey']==28788][['gvkey','cusip','iid','tic','tpci']]"
   ]
  }
 ],
 "metadata": {
  "kernelspec": {
   "display_name": "Python 3",
   "language": "python",
   "name": "python3"
  },
  "language_info": {
   "codemirror_mode": {
    "name": "ipython",
    "version": 3
   },
   "file_extension": ".py",
   "mimetype": "text/x-python",
   "name": "python",
   "nbconvert_exporter": "python",
   "pygments_lexer": "ipython3",
   "version": "3.6.2"
  }
 },
 "nbformat": 4,
 "nbformat_minor": 2
}
