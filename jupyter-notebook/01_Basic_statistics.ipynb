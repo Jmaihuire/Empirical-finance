{
 "cells": [
  {
   "cell_type": "markdown",
   "metadata": {},
   "source": [
    "## Basic statistics\n",
    "Last tutorial, we import data and have done some data cleaning work.\n",
    "This tutorial will use the clean data to compute summary statistics of variables and to present cross sectional statistics by date."
   ]
  },
  {
   "cell_type": "markdown",
   "metadata": {},
   "source": [
    "### Import required libraries"
   ]
  },
  {
   "cell_type": "code",
   "execution_count": 1,
   "metadata": {
    "collapsed": true
   },
   "outputs": [],
   "source": [
    "import pandas as pd\n",
    "\n",
    "pd.set_option('display.width', 180)"
   ]
  },
  {
   "cell_type": "markdown",
   "metadata": {},
   "source": [
    "### Read data"
   ]
  },
  {
   "cell_type": "code",
   "execution_count": 2,
   "metadata": {
    "collapsed": true
   },
   "outputs": [],
   "source": [
    "data_path = '/users/ml/git/'\n",
    "crsp_monthly = pd.read_csv(data_path + 'crsp_monthly_clean.txt', sep='\\t', engine='python')"
   ]
  },
  {
   "cell_type": "markdown",
   "metadata": {},
   "source": [
    "### Check data type of each variable\n",
    "<p>If there is mixed type of data in a column (e.g. both numeric and string variable in a column), Python will read it as object. We need to clarify the data type of the variable.</p>\n",
    "<p>For example, return should be numeric otherwise we cannot do any calculation in Python. However, CRSP return data contains missing codes, i.e. some letters (e.g. 'A', 'B' and 'S') rather than numeric value to indicate the reason why the return is missing. Therefore, we need to convert these missing codes to missing value in numeric format which is NaN.</p> \n",
    "<p>Another example is date format, the date in the data is not date format after you import the data. This could make problems when you want to compute the difference between dates (e.g. 20100101 should be one day after 20091231, but if you do not convert them into date format, it will return 20100101-20091231=8870).</p>"
   ]
  },
  {
   "cell_type": "code",
   "execution_count": 3,
   "metadata": {},
   "outputs": [
    {
     "data": {
      "text/plain": [
       "permno       int64\n",
       "cusip       object\n",
       "date         int64\n",
       "ret         object\n",
       "prc        float64\n",
       "shrout     float64\n",
       "exchcd     float64\n",
       "shrcd      float64\n",
       "vol        float64\n",
       "bid        float64\n",
       "ask        float64\n",
       "vwretd     float64\n",
       "siccd       object\n",
       "ncusip      object\n",
       "cfacpr     float64\n",
       "cfacshr    float64\n",
       "dlret       object\n",
       "dlstcd     float64\n",
       "dlpdt      float64\n",
       "dtype: object"
      ]
     },
     "execution_count": 3,
     "metadata": {},
     "output_type": "execute_result"
    }
   ],
   "source": [
    "crsp_monthly.dtypes"
   ]
  },
  {
   "cell_type": "markdown",
   "metadata": {},
   "source": [
    "### Convert return to numeric variable"
   ]
  },
  {
   "cell_type": "code",
   "execution_count": 4,
   "metadata": {
    "collapsed": true
   },
   "outputs": [],
   "source": [
    "for i in ['ret', 'siccd', 'dlret']:\n",
    "    crsp_monthly[i] = pd.to_numeric(crsp_monthly[i], errors='coerce')"
   ]
  },
  {
   "cell_type": "markdown",
   "metadata": {},
   "source": [
    "### Convert date to date format"
   ]
  },
  {
   "cell_type": "code",
   "execution_count": 5,
   "metadata": {
    "collapsed": true
   },
   "outputs": [],
   "source": [
    "crsp_monthly['date'] = pd.to_datetime(crsp_monthly['date'], format='%Y%m%d')\n",
    "crsp_monthly['yr_mo'] = crsp_monthly['date'].apply(lambda x: x.year) * 100 + crsp_monthly['date'].apply(lambda x: x.month)"
   ]
  },
  {
   "cell_type": "markdown",
   "metadata": {},
   "source": [
    "### Compute summary statistics"
   ]
  },
  {
   "cell_type": "markdown",
   "metadata": {},
   "source": [
    "#### Pooled statistics"
   ]
  },
  {
   "cell_type": "code",
   "execution_count": 6,
   "metadata": {},
   "outputs": [
    {
     "data": {
      "text/html": [
       "<div>\n",
       "<table border=\"1\" class=\"dataframe\">\n",
       "  <thead>\n",
       "    <tr style=\"text-align: right;\">\n",
       "      <th></th>\n",
       "      <th>count</th>\n",
       "      <th>mean</th>\n",
       "      <th>std</th>\n",
       "      <th>min</th>\n",
       "      <th>25%</th>\n",
       "      <th>50%</th>\n",
       "      <th>75%</th>\n",
       "      <th>max</th>\n",
       "    </tr>\n",
       "  </thead>\n",
       "  <tbody>\n",
       "    <tr>\n",
       "      <th>ret</th>\n",
       "      <td>2359429.000</td>\n",
       "      <td>0.012</td>\n",
       "      <td>0.190</td>\n",
       "      <td>-0.981</td>\n",
       "      <td>-0.069</td>\n",
       "      <td>0.000</td>\n",
       "      <td>0.073</td>\n",
       "      <td>24.000</td>\n",
       "    </tr>\n",
       "    <tr>\n",
       "      <th>vol</th>\n",
       "      <td>2301218.000</td>\n",
       "      <td>88576.943</td>\n",
       "      <td>677522.224</td>\n",
       "      <td>0.000</td>\n",
       "      <td>1278.000</td>\n",
       "      <td>6584.000</td>\n",
       "      <td>36118.000</td>\n",
       "      <td>201242689.000</td>\n",
       "    </tr>\n",
       "    <tr>\n",
       "      <th>vwretd</th>\n",
       "      <td>2399080.000</td>\n",
       "      <td>0.010</td>\n",
       "      <td>0.045</td>\n",
       "      <td>-0.225</td>\n",
       "      <td>-0.017</td>\n",
       "      <td>0.014</td>\n",
       "      <td>0.040</td>\n",
       "      <td>0.128</td>\n",
       "    </tr>\n",
       "  </tbody>\n",
       "</table>\n",
       "</div>"
      ],
      "text/plain": [
       "              count       mean         std     min       25%       50%        75%            max\n",
       "ret     2359429.000      0.012       0.190  -0.981    -0.069     0.000      0.073         24.000\n",
       "vol     2301218.000  88576.943  677522.224   0.000  1278.000  6584.000  36118.000  201242689.000\n",
       "vwretd  2399080.000      0.010       0.045  -0.225    -0.017     0.014      0.040          0.128"
      ]
     },
     "execution_count": 6,
     "metadata": {},
     "output_type": "execute_result"
    }
   ],
   "source": [
    "stats = crsp_monthly[['ret', 'vol', 'vwretd']].describe().T\n",
    "for i in stats.columns:\n",
    "    stats[i] = stats[i].apply(lambda x: format(x, '.3f'))\n",
    "\n",
    "stats"
   ]
  },
  {
   "cell_type": "markdown",
   "metadata": {},
   "source": [
    "#### Cross sectional statistics\n",
    "- For each month, we compute summary statistics across stocks. \n",
    "- Then we compute the time-series average of cross sectional statistics. "
   ]
  },
  {
   "cell_type": "markdown",
   "metadata": {},
   "source": [
    "##### First, we will take return as example."
   ]
  },
  {
   "cell_type": "code",
   "execution_count": 7,
   "metadata": {},
   "outputs": [
    {
     "data": {
      "text/html": [
       "<div>\n",
       "<table border=\"1\" class=\"dataframe\">\n",
       "  <thead>\n",
       "    <tr style=\"text-align: right;\">\n",
       "      <th></th>\n",
       "      <th>count</th>\n",
       "      <th>mean</th>\n",
       "      <th>std</th>\n",
       "      <th>min</th>\n",
       "      <th>25%</th>\n",
       "      <th>50%</th>\n",
       "      <th>75%</th>\n",
       "      <th>max</th>\n",
       "    </tr>\n",
       "    <tr>\n",
       "      <th>yr_mo</th>\n",
       "      <th></th>\n",
       "      <th></th>\n",
       "      <th></th>\n",
       "      <th></th>\n",
       "      <th></th>\n",
       "      <th></th>\n",
       "      <th></th>\n",
       "      <th></th>\n",
       "    </tr>\n",
       "  </thead>\n",
       "  <tbody>\n",
       "    <tr>\n",
       "      <th>198001</th>\n",
       "      <td>4482.0</td>\n",
       "      <td>0.104479</td>\n",
       "      <td>0.208856</td>\n",
       "      <td>-0.445783</td>\n",
       "      <td>0.000000</td>\n",
       "      <td>0.056639</td>\n",
       "      <td>0.160536</td>\n",
       "      <td>3.333333</td>\n",
       "    </tr>\n",
       "    <tr>\n",
       "      <th>198002</th>\n",
       "      <td>4504.0</td>\n",
       "      <td>-0.006683</td>\n",
       "      <td>0.143766</td>\n",
       "      <td>-0.435484</td>\n",
       "      <td>-0.085312</td>\n",
       "      <td>-0.026953</td>\n",
       "      <td>0.035595</td>\n",
       "      <td>2.142857</td>\n",
       "    </tr>\n",
       "    <tr>\n",
       "      <th>198003</th>\n",
       "      <td>4505.0</td>\n",
       "      <td>-0.165808</td>\n",
       "      <td>0.113790</td>\n",
       "      <td>-0.695652</td>\n",
       "      <td>-0.239766</td>\n",
       "      <td>-0.162162</td>\n",
       "      <td>-0.089796</td>\n",
       "      <td>0.517241</td>\n",
       "    </tr>\n",
       "    <tr>\n",
       "      <th>198004</th>\n",
       "      <td>4512.0</td>\n",
       "      <td>0.050782</td>\n",
       "      <td>0.129045</td>\n",
       "      <td>-0.625000</td>\n",
       "      <td>-0.015625</td>\n",
       "      <td>0.040541</td>\n",
       "      <td>0.117117</td>\n",
       "      <td>1.111111</td>\n",
       "    </tr>\n",
       "    <tr>\n",
       "      <th>198005</th>\n",
       "      <td>4502.0</td>\n",
       "      <td>0.070650</td>\n",
       "      <td>0.126001</td>\n",
       "      <td>-0.785714</td>\n",
       "      <td>0.000000</td>\n",
       "      <td>0.059594</td>\n",
       "      <td>0.125000</td>\n",
       "      <td>1.307692</td>\n",
       "    </tr>\n",
       "  </tbody>\n",
       "</table>\n",
       "</div>"
      ],
      "text/plain": [
       "         count      mean       std       min       25%       50%       75%       max\n",
       "yr_mo                                                                               \n",
       "198001  4482.0  0.104479  0.208856 -0.445783  0.000000  0.056639  0.160536  3.333333\n",
       "198002  4504.0 -0.006683  0.143766 -0.435484 -0.085312 -0.026953  0.035595  2.142857\n",
       "198003  4505.0 -0.165808  0.113790 -0.695652 -0.239766 -0.162162 -0.089796  0.517241\n",
       "198004  4512.0  0.050782  0.129045 -0.625000 -0.015625  0.040541  0.117117  1.111111\n",
       "198005  4502.0  0.070650  0.126001 -0.785714  0.000000  0.059594  0.125000  1.307692"
      ]
     },
     "execution_count": 7,
     "metadata": {},
     "output_type": "execute_result"
    }
   ],
   "source": [
    "stats_cs_ret = crsp_monthly.groupby('yr_mo')['ret'].describe()\n",
    "stats_cs_ret = stats_cs_ret.unstack()\n",
    "stats_cs_ret.head()"
   ]
  },
  {
   "cell_type": "code",
   "execution_count": 8,
   "metadata": {},
   "outputs": [
    {
     "name": "stdout",
     "output_type": "stream",
     "text": [
      "number of month: 444\n"
     ]
    }
   ],
   "source": [
    "print 'number of month: %s' % len(stats_cs_ret)"
   ]
  },
  {
   "cell_type": "code",
   "execution_count": 9,
   "metadata": {},
   "outputs": [
    {
     "data": {
      "text/html": [
       "<div>\n",
       "<table border=\"1\" class=\"dataframe\">\n",
       "  <thead>\n",
       "    <tr style=\"text-align: right;\">\n",
       "      <th></th>\n",
       "      <th>count</th>\n",
       "      <th>mean</th>\n",
       "      <th>std</th>\n",
       "      <th>min</th>\n",
       "      <th>25%</th>\n",
       "      <th>50%</th>\n",
       "      <th>75%</th>\n",
       "      <th>max</th>\n",
       "    </tr>\n",
       "  </thead>\n",
       "  <tbody>\n",
       "    <tr>\n",
       "      <th>ret</th>\n",
       "      <td>5314.029279</td>\n",
       "      <td>0.011879</td>\n",
       "      <td>0.170991</td>\n",
       "      <td>-0.772804</td>\n",
       "      <td>-0.06528</td>\n",
       "      <td>0.001107</td>\n",
       "      <td>0.071288</td>\n",
       "      <td>3.330868</td>\n",
       "    </tr>\n",
       "  </tbody>\n",
       "</table>\n",
       "</div>"
      ],
      "text/plain": [
       "           count      mean       std       min      25%       50%       75%       max\n",
       "ret  5314.029279  0.011879  0.170991 -0.772804 -0.06528  0.001107  0.071288  3.330868"
      ]
     },
     "execution_count": 9,
     "metadata": {},
     "output_type": "execute_result"
    }
   ],
   "source": [
    "stats_cs_ret = pd.DataFrame({'ret': stats_cs_ret.mean()}).T\n",
    "stats_cs_ret"
   ]
  },
  {
   "cell_type": "markdown",
   "metadata": {},
   "source": [
    "##### Add more variables to present results"
   ]
  },
  {
   "cell_type": "code",
   "execution_count": 10,
   "metadata": {},
   "outputs": [
    {
     "data": {
      "text/html": [
       "<div>\n",
       "<table border=\"1\" class=\"dataframe\">\n",
       "  <thead>\n",
       "    <tr style=\"text-align: right;\">\n",
       "      <th></th>\n",
       "      <th>count</th>\n",
       "      <th>mean</th>\n",
       "      <th>std</th>\n",
       "      <th>min</th>\n",
       "      <th>25%</th>\n",
       "      <th>50%</th>\n",
       "      <th>75%</th>\n",
       "      <th>max</th>\n",
       "    </tr>\n",
       "  </thead>\n",
       "  <tbody>\n",
       "    <tr>\n",
       "      <th>ret</th>\n",
       "      <td>5314.029</td>\n",
       "      <td>0.012</td>\n",
       "      <td>0.171</td>\n",
       "      <td>-0.773</td>\n",
       "      <td>-0.065</td>\n",
       "      <td>0.001</td>\n",
       "      <td>0.071</td>\n",
       "      <td>3.331</td>\n",
       "    </tr>\n",
       "    <tr>\n",
       "      <th>vol</th>\n",
       "      <td>5182.923</td>\n",
       "      <td>101608.470</td>\n",
       "      <td>446870.141</td>\n",
       "      <td>1.255</td>\n",
       "      <td>3439.077</td>\n",
       "      <td>17548.838</td>\n",
       "      <td>66896.845</td>\n",
       "      <td>16666372.500</td>\n",
       "    </tr>\n",
       "    <tr>\n",
       "      <th>vwretd</th>\n",
       "      <td>5403.333</td>\n",
       "      <td>0.010</td>\n",
       "      <td>0.000</td>\n",
       "      <td>0.010</td>\n",
       "      <td>0.010</td>\n",
       "      <td>0.010</td>\n",
       "      <td>0.010</td>\n",
       "      <td>0.010</td>\n",
       "    </tr>\n",
       "  </tbody>\n",
       "</table>\n",
       "</div>"
      ],
      "text/plain": [
       "           count        mean         std     min       25%        50%        75%           max\n",
       "ret     5314.029       0.012       0.171  -0.773    -0.065      0.001      0.071         3.331\n",
       "vol     5182.923  101608.470  446870.141   1.255  3439.077  17548.838  66896.845  16666372.500\n",
       "vwretd  5403.333       0.010       0.000   0.010     0.010      0.010      0.010         0.010"
      ]
     },
     "execution_count": 10,
     "metadata": {},
     "output_type": "execute_result"
    }
   ],
   "source": [
    "stats_cs = pd.DataFrame()\n",
    "for i in ['ret','vol','vwretd']:\n",
    "    summary = crsp_monthly.groupby('yr_mo')[i].describe()\n",
    "    summary = pd.DataFrame({i: summary.unstack().mean()}).T\n",
    "    stats_cs = pd.concat([stats_cs,summary])\n",
    "\n",
    "for i in stats_cs.columns:\n",
    "    stats_cs[i] = stats_cs[i].apply(lambda x: format(x, '.3f'))\n",
    "\n",
    "stats_cs"
   ]
  }
 ],
 "metadata": {
  "kernelspec": {
   "display_name": "Python 2",
   "language": "python",
   "name": "python2"
  },
  "language_info": {
   "codemirror_mode": {
    "name": "ipython",
    "version": 2
   },
   "file_extension": ".py",
   "mimetype": "text/x-python",
   "name": "python",
   "nbconvert_exporter": "python",
   "pygments_lexer": "ipython2",
   "version": "2.7.13"
  }
 },
 "nbformat": 4,
 "nbformat_minor": 2
}
